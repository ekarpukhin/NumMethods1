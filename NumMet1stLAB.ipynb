{
 "cells": [
  {
   "cell_type": "code",
   "execution_count": 3,
   "id": "53222439-2427-4448-81ea-9860c195c24f",
   "metadata": {},
   "outputs": [],
   "source": [
    "import numpy as np\n",
    "import itertools \n",
    "from matplotlib import pyplot as plt"
   ]
  },
  {
   "cell_type": "code",
   "execution_count": 8,
   "id": "5cdc7009-441d-4aed-84c3-2b47c01a8463",
   "metadata": {},
   "outputs": [
    {
     "name": "stdout",
     "output_type": "stream",
     "text": [
      "3.287912087912088\n",
      "3.907244212098581\n",
      "3.9904334804351866\n",
      "3.999040335880025\n",
      "3.9999040033598994\n"
     ]
    },
    {
     "data": {
      "image/png": "[encoded data removed]",
      "text/plain": [
       "<Figure size 432x288 with 1 Axes>"
      ]
     },
     "metadata": {
      "needs_background": "light"
     },
     "output_type": "display_data"
    }
   ],
   "source": [
    "#1\n",
    "\n",
    "acc = 4\n",
    "ns = [10, 100, 1000, 10000, 100000]\n",
    "sums = []\n",
    "errors = []\n",
    "digits_arr = []\n",
    "\n",
    "for N in ns:\n",
    "    s = sum([48/(5*(n*n+6*n+8)) for n in range(N+1)])\n",
    "    sums.append(s)\n",
    "    error = abs(acc-s)\n",
    "    errors.append(error)\n",
    "    digits = 1\n",
    "    num = 1\n",
    "    while(num>error):\n",
    "        num *= 0.1\n",
    "        digits+=1\n",
    "    digits_arr.append(digits)\n",
    "    print(s)\n",
    "\n",
    "# plt.hist(errors)\n",
    "# plt.show()\n",
    "plt.hist(digits_arr)\n",
    "plt.show()"
   ]
  },
  {
   "cell_type": "code",
   "execution_count": 5,
   "id": "90dab0d9-6771-4e6d-9e11-145b1f7cf89c",
   "metadata": {},
   "outputs": [
    {
     "name": "stdout",
     "output_type": "stream",
     "text": [
      "-11006.999999999998 10719.000000000004\n",
      "-1594.2960000000014 1606.9680000000005\n"
     ]
    }
   ],
   "source": [
    "# 1.10\n",
    "\n",
    "def get_mxs(delta):\n",
    "    arr = list(itertools.product((1+delta, 1-delta), repeat=9))\n",
    "    mxs = map(lambda a: [[*a[0:3]], [*a[3:6]], [*a[6:9]]], arr)\n",
    "    return mxs\n",
    "\n",
    "A = np.array([[9, 17, 1],[27, 35, -18], [6, 14, 4]])\n",
    "\n",
    "# delta = 0.5\n",
    "mxs = get_mxs(0.5) \n",
    "min_det = 1000000\n",
    "max_det = -1000000\n",
    "for mx in mxs:\n",
    "    newmx = np.multiply(A,mx)\n",
    "    max_det = max(max_det, np.linalg.det(newmx))\n",
    "    min_det = min(min_det, np.linalg.det(newmx)) \n",
    "print(min_det, max_det)\n",
    "\n",
    "# delta = 0.1\n",
    "\n",
    "mxs = get_mxs(0.1)\n",
    "min_det = 1000000\n",
    "max_det = -1000000\n",
    "\n",
    "for mx in mxs:\n",
    "    newmx = np.multiply(A,mx)\n",
    "    max_det = max(max_det, np.linalg.det(newmx))\n",
    "    min_det = min(min_det, np.linalg.det(newmx)) \n",
    "print(min_det, max_det)"
   ]
  },
  {
   "cell_type": "code",
   "execution_count": 122,
   "id": "85fcaab9-e805-4590-a509-088b89e93f2f",
   "metadata": {},
   "outputs": [],
   "source": [
    "#6\n",
    "\n",
    "def find_zero(zero):\n",
    "    p = 0\n",
    "    while(zero>0):\n",
    "        zero /= 2\n",
    "        p += 1\n",
    "    return p+1\n",
    "\n",
    "def find_inf(inf):\n",
    "    p = 0\n",
    "    while(inf > 0):\n",
    "        inf *= 2;\n",
    "        p += 1\n",
    "    return p\n",
    "\n",
    "def find_eps(eps):\n",
    "    prev_eps = eps\n",
    "    k = 0\n",
    "    while(eps+1 > 1):\n",
    "        prev_eps = eps\n",
    "        eps /= 2\n",
    "        k += 1\n",
    "    return prev_eps\n",
    "\n"
   ]
  },
  {
   "cell_type": "code",
   "execution_count": 114,
   "id": "fa95ea45-a9c8-431f-87d7-f60768282575",
   "metadata": {},
   "outputs": [
    {
     "name": "stderr",
     "output_type": "stream",
     "text": [
      "C:\\Users\\Egor\\AppData\\Local\\Temp\\ipykernel_7952\\1132962810.py:4: DeprecationWarning: `np.float` is a deprecated alias for the builtin `float`. To silence this warning, use `float` by itself. Doing this will not modify any behavior and is safe. If you specifically wanted the numpy scalar type, use `np.float64` here.\n",
      "Deprecated in NumPy 1.20; for more details and guidance: https://numpy.org/devdocs/release/1.20.0-notes.html#deprecations\n",
      "  zero = np.float(1)\n"
     ]
    },
    {
     "data": {
      "text/plain": [
       "1076"
      ]
     },
     "execution_count": 121,
     "metadata": {},
     "output_type": "execute_result"
    }
   ],
   "source": []
  },
  {
   "cell_type": "code",
   "execution_count": 98,
   "id": "7154af4a-edfb-4c10-b660-af96af79ff38",
   "metadata": {},
   "outputs": [
    {
     "data": {
      "text/plain": [
       "6.0"
      ]
     },
     "execution_count": 98,
     "metadata": {},
     "output_type": "execute_result"
    }
   ],
   "source": []
  },
  {
   "cell_type": "code",
   "execution_count": null,
   "id": "df13e282-c55f-4e23-bb4c-76cea655e0de",
   "metadata": {},
   "outputs": [],
   "source": []
  }
 ],
 "metadata": {
  "kernelspec": {
   "display_name": "Python 3 (ipykernel)",
   "language": "python",
   "name": "python3"
  },
  "language_info": {
   "codemirror_mode": {
    "name": "ipython",
    "version": 3
   },
   "file_extension": ".py",
   "mimetype": "text/x-python",
   "name": "python",
   "nbconvert_exporter": "python",
   "pygments_lexer": "ipython3",
   "version": "3.10.6"
  }
 },
 "nbformat": 4,
 "nbformat_minor": 5
}
